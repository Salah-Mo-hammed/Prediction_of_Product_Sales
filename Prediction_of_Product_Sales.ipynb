{
  "nbformat": 4,
  "nbformat_minor": 0,
  "metadata": {
    "colab": {
      "provenance": [],
      "collapsed_sections": [
        "7t8L-vmG_0eN"
      ],
      "authorship_tag": "ABX9TyM6qC80FZLr0XtK8YblR6qm",
      "include_colab_link": true
    },
    "kernelspec": {
      "name": "python3",
      "display_name": "Python 3"
    },
    "language_info": {
      "name": "python"
    }
  },
  "cells": [
    {
      "cell_type": "markdown",
      "metadata": {
        "id": "view-in-github",
        "colab_type": "text"
      },
      "source": [
        "<a href=\"https://colab.research.google.com/github/Salah-Mo-hammed/Prediction_of_Product_Sales/blob/main/Prediction_of_Product_Sales.ipynb\" target=\"_parent\"><img src=\"https://colab.research.google.com/assets/colab-badge.svg\" alt=\"Open In Colab\"/></a>"
      ]
    },
    {
      "cell_type": "markdown",
      "source": [
        "# Prediction of Product Sales"
      ],
      "metadata": {
        "id": "zIA1Sovv_edO"
      }
    },
    {
      "cell_type": "markdown",
      "source": [
        "-  Salah Mohammed Abd El-Ati\n"
      ],
      "metadata": {
        "id": "pr0HxChI_tl1"
      }
    },
    {
      "cell_type": "markdown",
      "source": [
        "## Project Overview"
      ],
      "metadata": {
        "id": "7t8L-vmG_0eN"
      }
    },
    {
      "cell_type": "markdown",
      "source": [],
      "metadata": {
        "id": "_F7PB2fFAyXX"
      }
    },
    {
      "cell_type": "markdown",
      "source": [
        "## Load and Inspect Data"
      ],
      "metadata": {
        "id": "15kix1ZH_9rB"
      }
    },
    {
      "cell_type": "code",
      "source": [],
      "metadata": {
        "id": "iMfU-hElAkPX"
      },
      "execution_count": null,
      "outputs": []
    },
    {
      "cell_type": "markdown",
      "source": [
        "## Clean Data"
      ],
      "metadata": {
        "id": "2JQfnDIYABb6"
      }
    },
    {
      "cell_type": "code",
      "source": [],
      "metadata": {
        "id": "NJ0q4n4IAlJ5"
      },
      "execution_count": null,
      "outputs": []
    },
    {
      "cell_type": "markdown",
      "source": [
        "## Exploratory Data Analysis"
      ],
      "metadata": {
        "id": "UnuqFFCqAEKM"
      }
    },
    {
      "cell_type": "code",
      "source": [],
      "metadata": {
        "id": "D3wYZgk3Amck"
      },
      "execution_count": null,
      "outputs": []
    },
    {
      "cell_type": "markdown",
      "source": [
        "## Feature Inspection"
      ],
      "metadata": {
        "id": "NOHJFfoYAKky"
      }
    },
    {
      "cell_type": "code",
      "source": [],
      "metadata": {
        "id": "hatYv4P1AnSr"
      },
      "execution_count": null,
      "outputs": []
    }
  ]
}